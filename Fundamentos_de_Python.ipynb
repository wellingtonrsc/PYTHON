{
  "nbformat": 4,
  "nbformat_minor": 0,
  "metadata": {
    "colab": {
      "name": "Fundamentos de Python.ipynb",
      "provenance": [],
      "authorship_tag": "ABX9TyPXH3mGX/K5c+c1uS/GE99M"
    },
    "kernelspec": {
      "name": "python3",
      "display_name": "Python 3"
    },
    "language_info": {
      "name": "python"
    }
  },
  "cells": [
    {
      "cell_type": "markdown",
      "metadata": {
        "id": "UKKnuDtmBuG7"
      },
      "source": [
        "# **Fundamentos de Python**"
      ]
    },
    {
      "cell_type": "markdown",
      "metadata": {
        "id": "QpF3gdeTBzPR"
      },
      "source": [
        "**VARIAVEIS**"
      ]
    },
    {
      "cell_type": "code",
      "metadata": {
        "id": "ohf_29r4BlXn"
      },
      "source": [
        "nome = 'Wellington' #definição da variavel sempre o nome = valor (o \"=\" é chamado de operador de atribuição)"
      ],
      "execution_count": null,
      "outputs": []
    },
    {
      "cell_type": "code",
      "metadata": {
        "id": "eiRttVKEB95Q"
      },
      "source": [
        "idade = 18"
      ],
      "execution_count": null,
      "outputs": []
    },
    {
      "cell_type": "code",
      "metadata": {
        "id": "LEJIy4AlCAlI"
      },
      "source": [
        "altura = 1.85"
      ],
      "execution_count": null,
      "outputs": []
    },
    {
      "cell_type": "code",
      "metadata": {
        "id": "21S1BtEwCHRv"
      },
      "source": [
        "e_matematica = True"
      ],
      "execution_count": null,
      "outputs": []
    },
    {
      "cell_type": "code",
      "metadata": {
        "id": "X4ND7tJqCMe_"
      },
      "source": [
        "nome = 'Wellington'\n",
        "idade = 18\n",
        "altura = 1.85\n",
        "e_matematica = True"
      ],
      "execution_count": null,
      "outputs": []
    },
    {
      "cell_type": "markdown",
      "metadata": {
        "id": "BejNPwabDlVj"
      },
      "source": [
        "**Como sabemos o valor que gravamos na variavel ?**"
      ]
    },
    {
      "cell_type": "code",
      "metadata": {
        "id": "6IS3lW6DDuc2"
      },
      "source": [
        "nome"
      ],
      "execution_count": null,
      "outputs": []
    },
    {
      "cell_type": "code",
      "metadata": {
        "id": "4hEKAuPKDw2N"
      },
      "source": [
        "altura"
      ],
      "execution_count": null,
      "outputs": []
    },
    {
      "cell_type": "code",
      "metadata": {
        "id": "jq3I2ToTDzrc"
      },
      "source": [
        "nome #se colocarmos as duas variaveis em um bloco ele mostrará apenas o valor da ultima\n",
        "altura "
      ],
      "execution_count": null,
      "outputs": []
    },
    {
      "cell_type": "code",
      "metadata": {
        "id": "-Voo3VSOECQj"
      },
      "source": [
        "#uma solução a esse caso acima é utilizar as seguintes formas\n",
        "nome, altura"
      ],
      "execution_count": null,
      "outputs": []
    },
    {
      "cell_type": "code",
      "metadata": {
        "id": "GXTi_SNbENyb"
      },
      "source": [
        "#tambem podemos colocar palavras antes de exibir uma variavel\n",
        "print(\"O valor da variavel nome é: \", nome)"
      ],
      "execution_count": null,
      "outputs": []
    },
    {
      "cell_type": "markdown",
      "metadata": {
        "id": "jDsBmYkuEpMM"
      },
      "source": [
        "**OPERADORES**"
      ]
    },
    {
      "cell_type": "markdown",
      "metadata": {
        "id": "ZwM9ZrP5GaUw"
      },
      "source": [
        "**Definindo algumas variáveis**"
      ]
    },
    {
      "cell_type": "code",
      "metadata": {
        "id": "cUTeznM3Euq1"
      },
      "source": [
        "a = 2\n",
        "b = 5\n",
        "d = \"para\"\n",
        "e = \"lelepipedo\""
      ],
      "execution_count": null,
      "outputs": []
    },
    {
      "cell_type": "markdown",
      "metadata": {
        "id": "HLbgRinuGpPi"
      },
      "source": [
        "**Operadores Aritméticos**\n",
        "\n",
        "- Os operadores possuem comportamentos diferentes dependendo do tipo das variaveis"
      ]
    },
    {
      "cell_type": "code",
      "metadata": {
        "colab": {
          "base_uri": "https://localhost:8080/"
        },
        "id": "3SA8MG-JG6Cw",
        "outputId": "bd96d047-deeb-47de-a9db-dcc1c5acbe0f"
      },
      "source": [
        "# Adição numérica\n",
        "print(a+b)"
      ],
      "execution_count": null,
      "outputs": [
        {
          "output_type": "stream",
          "text": [
            "7\n"
          ],
          "name": "stdout"
        }
      ]
    },
    {
      "cell_type": "code",
      "metadata": {
        "colab": {
          "base_uri": "https://localhost:8080/"
        },
        "id": "yuuBxAVEHCZv",
        "outputId": "752391f6-8184-4b6d-ea05-21bd484fcb5b"
      },
      "source": [
        "# Adição strings\n",
        "print(d)\n",
        "print(e)\n",
        "print(d+e)"
      ],
      "execution_count": null,
      "outputs": [
        {
          "output_type": "stream",
          "text": [
            "para\n",
            "lelepipedo\n",
            "paralelepipedo\n"
          ],
          "name": "stdout"
        }
      ]
    },
    {
      "cell_type": "code",
      "metadata": {
        "colab": {
          "base_uri": "https://localhost:8080/"
        },
        "id": "KtY3dUfsHOf4",
        "outputId": "4eb7100b-4190-4368-adf1-459eccbf390f"
      },
      "source": [
        "# subtração\n",
        "print(a - b)"
      ],
      "execution_count": null,
      "outputs": [
        {
          "output_type": "stream",
          "text": [
            "-3\n"
          ],
          "name": "stdout"
        }
      ]
    },
    {
      "cell_type": "code",
      "metadata": {
        "colab": {
          "base_uri": "https://localhost:8080/"
        },
        "id": "uFI6_ZtQHTBP",
        "outputId": "c4d8243e-1e56-4a22-aedd-007f75314e21"
      },
      "source": [
        "# divisão\n",
        "print(b/a)"
      ],
      "execution_count": null,
      "outputs": [
        {
          "output_type": "stream",
          "text": [
            "2.5\n"
          ],
          "name": "stdout"
        }
      ]
    },
    {
      "cell_type": "code",
      "metadata": {
        "colab": {
          "base_uri": "https://localhost:8080/"
        },
        "id": "ABH9kwvRHZD2",
        "outputId": "0c8ec8ed-4e56-4ef5-e6b6-11119b4f0a66"
      },
      "source": [
        "# Parte inteira da divisão\n",
        "print(a//b)"
      ],
      "execution_count": null,
      "outputs": [
        {
          "output_type": "stream",
          "text": [
            "0\n"
          ],
          "name": "stdout"
        }
      ]
    },
    {
      "cell_type": "code",
      "metadata": {
        "colab": {
          "base_uri": "https://localhost:8080/"
        },
        "id": "kZtwvCPHHlYm",
        "outputId": "362650b2-65af-4df4-e536-3236bded295f"
      },
      "source": [
        "# Resto da divisão\n",
        "print(b)\n",
        "print(a)\n",
        "\n",
        "print(b%a)"
      ],
      "execution_count": null,
      "outputs": [
        {
          "output_type": "stream",
          "text": [
            "5\n",
            "2\n",
            "1\n"
          ],
          "name": "stdout"
        }
      ]
    },
    {
      "cell_type": "code",
      "metadata": {
        "colab": {
          "base_uri": "https://localhost:8080/"
        },
        "id": "Aw5n9hq8IPw1",
        "outputId": "869fce2f-1dc8-4f3d-fc34-6eb3a62cbd79"
      },
      "source": [
        "# multiplicação\n",
        "print(a*b)"
      ],
      "execution_count": null,
      "outputs": [
        {
          "output_type": "stream",
          "text": [
            "10\n"
          ],
          "name": "stdout"
        }
      ]
    },
    {
      "cell_type": "code",
      "metadata": {
        "colab": {
          "base_uri": "https://localhost:8080/"
        },
        "id": "vb1Tmjz5IU42",
        "outputId": "9fddec80-4aa1-4df1-8359-4388c6f92db2"
      },
      "source": [
        "print(a**3)"
      ],
      "execution_count": null,
      "outputs": [
        {
          "output_type": "stream",
          "text": [
            "8\n"
          ],
          "name": "stdout"
        }
      ]
    },
    {
      "cell_type": "markdown",
      "metadata": {
        "id": "pSPl5hLfIX7n"
      },
      "source": [
        "**Operadores Relacionais**"
      ]
    },
    {
      "cell_type": "code",
      "metadata": {
        "colab": {
          "base_uri": "https://localhost:8080/"
        },
        "id": "ZH_c2xQmIbmk",
        "outputId": "83b8e4ac-526a-4ad6-ed49-b5b383a9b45f"
      },
      "source": [
        "# teste de igualdade numérica (não é =, é =)\n",
        "a == b"
      ],
      "execution_count": null,
      "outputs": [
        {
          "output_type": "execute_result",
          "data": {
            "text/plain": [
              "False"
            ]
          },
          "metadata": {
            "tags": []
          },
          "execution_count": 21
        }
      ]
    },
    {
      "cell_type": "code",
      "metadata": {
        "id": "jnbtn09AIz91"
      },
      "source": [
        "#teste de igualdade strings\n",
        "print(d == e)\n",
        "print(\"eu\" == \"eu\")\n",
        "print(\"eu\" == \"Eu\")"
      ],
      "execution_count": null,
      "outputs": []
    },
    {
      "cell_type": "code",
      "metadata": {
        "id": "DxMJOTo5JBVr"
      },
      "source": [
        "#teste da diferença numerica\n",
        "a != b"
      ],
      "execution_count": null,
      "outputs": []
    },
    {
      "cell_type": "code",
      "metadata": {
        "id": "Lv-pfd_VJJv0"
      },
      "source": [
        "#teste da diferença strings\n",
        "print(\"eu\" != \"Eu\")"
      ],
      "execution_count": null,
      "outputs": []
    },
    {
      "cell_type": "code",
      "metadata": {
        "id": "EdNPpLh_JbLU"
      },
      "source": [
        "#maior\n",
        "a > b"
      ],
      "execution_count": null,
      "outputs": []
    },
    {
      "cell_type": "code",
      "metadata": {
        "id": "R1k6GFczJdty"
      },
      "source": [
        "#menor\n",
        "a < b"
      ],
      "execution_count": null,
      "outputs": []
    },
    {
      "cell_type": "code",
      "metadata": {
        "id": "zzOj9UxLJhuS"
      },
      "source": [
        "# maior igual\n",
        "2 >= 2"
      ],
      "execution_count": null,
      "outputs": []
    },
    {
      "cell_type": "code",
      "metadata": {
        "id": "lHbIUmrBJnjt"
      },
      "source": [
        "#menor igual\n",
        "2 <= 2"
      ],
      "execution_count": null,
      "outputs": []
    },
    {
      "cell_type": "markdown",
      "metadata": {
        "id": "7GVVx740JsFT"
      },
      "source": [
        "**Operadores Lógicos**"
      ]
    },
    {
      "cell_type": "code",
      "metadata": {
        "id": "9rqnbHPuJwn7"
      },
      "source": [
        "print(a,b)"
      ],
      "execution_count": null,
      "outputs": []
    },
    {
      "cell_type": "code",
      "metadata": {
        "id": "QSkH4l-SJ7g6"
      },
      "source": [
        "a == 2 and b == 5"
      ],
      "execution_count": null,
      "outputs": []
    },
    {
      "cell_type": "code",
      "metadata": {
        "id": "jbSd2hRbJ_kS"
      },
      "source": [
        "a == 2 and b < 3"
      ],
      "execution_count": null,
      "outputs": []
    },
    {
      "cell_type": "code",
      "metadata": {
        "id": "yszzcLdMKCly"
      },
      "source": [
        "a == 2 or b ==3"
      ],
      "execution_count": null,
      "outputs": []
    },
    {
      "cell_type": "code",
      "metadata": {
        "id": "Pqtd0t_PKHwD"
      },
      "source": [
        "print(d)\n",
        "\"x\" not in d"
      ],
      "execution_count": null,
      "outputs": []
    },
    {
      "cell_type": "code",
      "metadata": {
        "id": "InDcz5ybKOB8"
      },
      "source": [
        "\"p\" not in d"
      ],
      "execution_count": null,
      "outputs": []
    },
    {
      "cell_type": "markdown",
      "metadata": {
        "id": "gdEVNH4FKS-Y"
      },
      "source": [
        "**Operadores de Atribuição**"
      ]
    },
    {
      "cell_type": "code",
      "metadata": {
        "id": "lzqBbtUEKY62"
      },
      "source": [
        "w = 10"
      ],
      "execution_count": null,
      "outputs": []
    },
    {
      "cell_type": "code",
      "metadata": {
        "id": "f4fMVbbaKf2j"
      },
      "source": [
        "print(w)"
      ],
      "execution_count": null,
      "outputs": []
    },
    {
      "cell_type": "code",
      "metadata": {
        "id": "G3o1UyheKixZ"
      },
      "source": [
        "# Atribuimos +3 unidades a variavel a\n",
        "a+=3"
      ],
      "execution_count": null,
      "outputs": []
    },
    {
      "cell_type": "code",
      "metadata": {
        "id": "ihlrIK_-KqaE"
      },
      "source": [
        "print(a)"
      ],
      "execution_count": null,
      "outputs": []
    },
    {
      "cell_type": "code",
      "metadata": {
        "id": "dmDlZ2WMKsJy"
      },
      "source": [
        "# Atribuimos 2 vezes o valor da variavel b a propria variavel b.\n",
        "b*=2"
      ],
      "execution_count": null,
      "outputs": []
    },
    {
      "cell_type": "code",
      "metadata": {
        "id": "LfcpVAz6K020"
      },
      "source": [
        "print(a, b)"
      ],
      "execution_count": null,
      "outputs": []
    }
  ]
}